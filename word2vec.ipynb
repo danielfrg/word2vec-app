{
 "cells": [
  {
   "cell_type": "code",
   "execution_count": 1,
   "metadata": {},
   "outputs": [
    {
     "name": "stderr",
     "output_type": "stream",
     "text": [
      "/Users/drodriguez/workspace/conda/envs/word2vec-dev/lib/python3.7/site-packages/sklearn/utils/__init__.py:4: DeprecationWarning: Using or importing the ABCs from 'collections' instead of from 'collections.abc' is deprecated, and in 3.8 it will stop working\n",
      "  from collections import Sequence\n"
     ]
    }
   ],
   "source": [
    "import word2vec"
   ]
  },
  {
   "cell_type": "code",
   "execution_count": 2,
   "metadata": {},
   "outputs": [],
   "source": [
    "def load_model(fname=\"data://danielfrg/word2vec/GoogleNews-vectors-negative300.bin\", *args, **kwargs):\n",
    "    model = word2vec.load(fname, *args, **kwargs)\n",
    "    return model"
   ]
  },
  {
   "cell_type": "code",
   "execution_count": 3,
   "metadata": {},
   "outputs": [],
   "source": [
    "# modal = load_model()\n",
    "model = load_model('/Users/drodriguez/Downloads/GoogleNews-vectors-negative300.bin', encoding=\"ISO-8859-1\", new_lines=False)"
   ]
  },
  {
   "cell_type": "code",
   "execution_count": 6,
   "metadata": {},
   "outputs": [],
   "source": [
    "def analogy(pos, neg, n=10, metric=\"cosine\"):\n",
    "    return model.analogy(pos=pos, neg=neg, n=n, metric=metric)"
   ]
  },
  {
   "cell_type": "code",
   "execution_count": 7,
   "metadata": {},
   "outputs": [],
   "source": [
    "def similar(word, n=10, metric=\"cosine\"):\n",
    "    return model.similar(word, n=n, metric=metric)"
   ]
  },
  {
   "cell_type": "code",
   "execution_count": 8,
   "metadata": {},
   "outputs": [],
   "source": [
    "def closest(vector, n=10, metric=\"cosine\"):\n",
    "    return model.closest(vector, n=n, metric=metric)"
   ]
  },
  {
   "cell_type": "code",
   "execution_count": 26,
   "metadata": {},
   "outputs": [],
   "source": [
    "def distance(words, metric=\"cosine\"):\n",
    "    return model.distance(*words, metric=metric)"
   ]
  },
  {
   "cell_type": "code",
   "execution_count": 10,
   "metadata": {},
   "outputs": [],
   "source": [
    "def vectors(words):\n",
    "    ret = {}\n",
    "    for word in words:\n",
    "        ret[word] = model[word] if word in model else None\n",
    "    return ret"
   ]
  },
  {
   "cell_type": "code",
   "execution_count": 20,
   "metadata": {},
   "outputs": [],
   "source": [
    "def apply(queries):\n",
    "    \"\"\"\n",
    "    {\n",
    "        \"vectors\":  { \"words\": [\"dog\", \"cat\"]},\n",
    "        \"distance\": { \"words\": [\"dog\", \"cat\"], \"metric\": \"cosine\"},\n",
    "        \"closest\":  { \"vector\": [...], \"n\": 10, \"metric\": \"cosine\"},\n",
    "        \"similar\":  { \"word\": \"dog\", \"n\":10 , \"metric\": \"cosine\"},\n",
    "        \"analogy\":  { \"pos\": [\"king\", \"woman\"], \"neg\": [\"man\"], \"n\":10 , \"metric\": \"cosine\"}\n",
    "    }\n",
    "    \"\"\"\n",
    "        \n",
    "    ret = {}\n",
    "    for key, value in queries.items():\n",
    "        if key in \"vectors\":\n",
    "            ret[key] = vectors(**value)\n",
    "        elif key in \"distance\":\n",
    "            ret[key] = distance(**value)\n",
    "        elif key in \"closest\":\n",
    "            idx, metrics = closest(**value)\n",
    "            ret[key] = model.generate_response(idx, metrics).tolist()\n",
    "        elif key == \"similar\":\n",
    "            idx, metrics = similar(**value)\n",
    "            ret[key] = model.generate_response(idx, metrics).tolist()\n",
    "        elif key == \"analogy\":\n",
    "            idx, metrics = analogy(**value)\n",
    "            ret[key] = model.generate_response(idx, metrics).tolist()\n",
    "        else:\n",
    "            raise Exception(f\"Unknown query '{key}'\")\n",
    "#         print(query)\n",
    "    \n",
    "    return ret"
   ]
  },
  {
   "cell_type": "code",
   "execution_count": 31,
   "metadata": {},
   "outputs": [
    {
     "data": {
      "text/plain": [
       "{'analogy': [('queen', 0.2668983589081602),\n",
       "  ('monarch', 0.2320833208311469),\n",
       "  ('princess', 0.2213130609598324),\n",
       "  ('crown_prince', 0.20620359683335135),\n",
       "  ('prince', 0.2016239642846388),\n",
       "  ('kings', 0.1963567104672611),\n",
       "  ('Queen_Consort', 0.19632303108407093),\n",
       "  ('queens', 0.19426787125700412),\n",
       "  ('sultan', 0.191172979137599),\n",
       "  ('monarchy', 0.19075373119214678)]}"
      ]
     },
     "execution_count": 31,
     "metadata": {},
     "output_type": "execute_result"
    }
   ],
   "source": [
    "# apply({\"vectors\": {\"words\": [\"dog\", \"cat\"] } })\n",
    "# apply({\"distance\": { \"words\": [\"dog\", \"cat\", \"fish\", \"bird\"] } })\n",
    "# apply({\"closest\": { \"vector\": model[\"cat\"], \"n\": 20 } })\n",
    "# apply({\"similar\": { \"word\": \"dog\", \"n\": 10 } })\n",
    "# apply({\"analogy\": { \"pos\": [\"king\", \"woman\"], \"neg\": [\"man\"], \"n\":10 } })"
   ]
  },
  {
   "cell_type": "code",
   "execution_count": null,
   "metadata": {},
   "outputs": [],
   "source": []
  }
 ],
 "metadata": {
  "kernelspec": {
   "display_name": "Python 3",
   "language": "python",
   "name": "python3"
  },
  "language_info": {
   "codemirror_mode": {
    "name": "ipython",
    "version": 3
   },
   "file_extension": ".py",
   "mimetype": "text/x-python",
   "name": "python",
   "nbconvert_exporter": "python",
   "pygments_lexer": "ipython3",
   "version": "3.7.0"
  }
 },
 "nbformat": 4,
 "nbformat_minor": 2
}
